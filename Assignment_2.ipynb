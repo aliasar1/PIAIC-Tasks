{
  "nbformat": 4,
  "nbformat_minor": 0,
  "metadata": {
    "colab": {
      "provenance": [],
      "collapsed_sections": [],
      "authorship_tag": "ABX9TyN5Z5oUpel3W/WrTX2kt3Js",
      "include_colab_link": true
    },
    "kernelspec": {
      "name": "python3",
      "display_name": "Python 3"
    },
    "language_info": {
      "name": "python"
    }
  },
  "cells": [
    {
      "cell_type": "markdown",
      "metadata": {
        "id": "view-in-github",
        "colab_type": "text"
      },
      "source": [
        "<a href=\"https://colab.research.google.com/github/aliasar1/PIAIC-Tasks/blob/main/Assignment_2.ipynb\" target=\"_parent\"><img src=\"https://colab.research.google.com/assets/colab-badge.svg\" alt=\"Open In Colab\"/></a>"
      ]
    },
    {
      "cell_type": "markdown",
      "source": [
        "#Assignment 2: Class 13_AIC\n",
        "\n",
        "Ali Asar Khowaja\n",
        "\n",
        "Student Id: PIAIC187258\n",
        "\n",
        "Batch 36 - Online"
      ],
      "metadata": {
        "id": "0i4KXhKDZlDV"
      }
    },
    {
      "cell_type": "markdown",
      "source": [
        "## TASK 1\n",
        "1. import mother and father attribute\n",
        "2. add two new attributes in the child constructor\n"
      ],
      "metadata": {
        "id": "ej4rSqv9mSN1"
      }
    },
    {
      "cell_type": "code",
      "source": [
        "class Father:\n",
        "    \n",
        "  def __init__ (self, fname, lname):\n",
        "    self.fname = fname\n",
        "    self.lname = lname\n",
        "    self.job = None\n",
        "    self.skinTone = None\n",
        "\n",
        "  def setJob (self, job):\n",
        "    self.job = job\n",
        "\n",
        "  def setSkinTone (self, skinTone):\n",
        "    self.skinTone = skinTone\n",
        "\n",
        "  def __str__ (self):\n",
        "    return f\"First name: {self.fname} , Last name: {self.lname} , Job: {self.job} , Skin Tone: {self.skinTone}\"\n"
      ],
      "metadata": {
        "id": "ZkcR1N3dZvv2"
      },
      "execution_count": 2,
      "outputs": []
    },
    {
      "cell_type": "code",
      "source": [
        "class Mother:\n",
        "\n",
        "  def __init__ (self):\n",
        "    self.isHouseWife = False\n",
        "    self.language = None\n",
        "\n",
        "  def setIsHouseWife (self, isHouseWife):\n",
        "    self.isHouseWife = isHouseWife\n",
        "\n",
        "  def setLanguage (self, language):\n",
        "    self.language = language\n",
        "\n",
        "  def __str__ (self):\n",
        "    return f\"House Wife: {self.isHouseWife} , Langauge Speak: {self.language}\"\n"
      ],
      "metadata": {
        "id": "SVBr_XufelCf"
      },
      "execution_count": 3,
      "outputs": []
    },
    {
      "cell_type": "code",
      "source": [
        "class Child(Father, Mother):\n",
        "\n",
        "  def __init__ (self, name):\n",
        "    self.name = name\n",
        "    self.qualification = None\n",
        "    self.age = None\n",
        "\n",
        "  def setQualification (self, qualification):\n",
        "    self.qualification = qualification\n",
        "\n",
        "  def setAge (self, age):\n",
        "    self.age = age\n",
        "\n",
        "  def __str__ (self):\n",
        "    return f\"Child Name: {self.name} \\nChild Age: {self.age} \\nChild Qualification: {self.qualification}\"  \n"
      ],
      "metadata": {
        "id": "VCNxtcNafg2j"
      },
      "execution_count": 20,
      "outputs": []
    },
    {
      "cell_type": "code",
      "source": [
        "father = Father('Zahir', 'Ali')\n",
        "print([i for i in dir(father) if \"__\" not in i])\n",
        "father.setJob('Doctor')\n",
        "father.setSkinTone('Fair')\n",
        "print(father)"
      ],
      "metadata": {
        "colab": {
          "base_uri": "https://localhost:8080/"
        },
        "id": "GxeDUBvShnHa",
        "outputId": "5b2a634d-6266-44dd-ebf6-5299d21cc429"
      },
      "execution_count": 11,
      "outputs": [
        {
          "output_type": "stream",
          "name": "stdout",
          "text": [
            "['fname', 'job', 'lname', 'setJob', 'setSkinTone', 'skinTone']\n",
            "First name: Zahir , Last name: Ali , Job: Doctor , Skin Tone: Fair\n"
          ]
        }
      ]
    },
    {
      "cell_type": "code",
      "source": [
        "mother = Mother()\n",
        "print([i for i in dir(mother) if \"__\" not in i])\n",
        "mother.setIsHouseWife(True)\n",
        "mother.setLanguage('Urdu')\n",
        "print(mother)"
      ],
      "metadata": {
        "colab": {
          "base_uri": "https://localhost:8080/"
        },
        "id": "7zPahHZ_h68A",
        "outputId": "e680a0fe-19e6-46f3-d319-1ba3da2dcc0d"
      },
      "execution_count": 12,
      "outputs": [
        {
          "output_type": "stream",
          "name": "stdout",
          "text": [
            "['isHouseWife', 'language', 'setIsHouseWife', 'setLanguage']\n",
            "House Wife: True , Langauge Speak: Urdu\n"
          ]
        }
      ]
    },
    {
      "cell_type": "code",
      "source": [
        "child1 = Child('Ali Asar')\n",
        "print([i for i in dir(child1) if \"__\" not in i])\n",
        "child1.setQualification(\"Intermediate\")\n",
        "child1.setAge(\"21\")\n",
        "print(child1)"
      ],
      "metadata": {
        "colab": {
          "base_uri": "https://localhost:8080/"
        },
        "id": "kjeS9V5bhXAC",
        "outputId": "7ff21c60-8ff0-4566-c12b-16546bf75c08"
      },
      "execution_count": 21,
      "outputs": [
        {
          "output_type": "stream",
          "name": "stdout",
          "text": [
            "['age', 'name', 'qualification', 'setAge', 'setIsHouseWife', 'setJob', 'setLanguage', 'setQualification', 'setSkinTone']\n",
            "Child Name: Ali Asar \n",
            "Child Age: 21 \n",
            "Child Qualification: Intermediate\n"
          ]
        }
      ]
    },
    {
      "cell_type": "markdown",
      "source": [
        "##TASK 2\n",
        "Create operator overloading"
      ],
      "metadata": {
        "id": "2bQVTQbkmXIr"
      }
    },
    {
      "cell_type": "code",
      "source": [
        "class FootBall:\n",
        "\n",
        "  # calculating goals of match (first half goals + second half goals)\n",
        "  def __init__ (self, goals):\n",
        "    self.goals = goals\n",
        "\n",
        "  def __add__ (self, secondHalfGoals):\n",
        "    return self.goals + secondHalfGoals.goals\n",
        "  \n",
        "  def __str__ (self):\n",
        "    return f\"First Half Goals: {self.goals} \\nSecond Half Goals: {self.secondHalfGoals.goals}\"\n",
        "    \n",
        "h1 = FootBall(4)\n",
        "h2 = FootBall(2)\n",
        "print(h1+h2)"
      ],
      "metadata": {
        "colab": {
          "base_uri": "https://localhost:8080/"
        },
        "id": "dI9877Wpmg8g",
        "outputId": "6360791c-8d11-495e-81af-764202d099a8"
      },
      "execution_count": 35,
      "outputs": [
        {
          "output_type": "stream",
          "name": "stdout",
          "text": [
            "6\n"
          ]
        }
      ]
    }
  ]
}