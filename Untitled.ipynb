{
 "cells": [
  {
   "cell_type": "code",
   "execution_count": 4,
   "id": "4c9b1052",
   "metadata": {},
   "outputs": [
    {
     "name": "stdout",
     "output_type": "stream",
     "text": [
      "1\n",
      "2\n",
      "3\n",
      "4\n",
      "5\n"
     ]
    }
   ],
   "source": [
    "for i in range(1,6):\n",
    "    print(i)"
   ]
  },
  {
   "cell_type": "code",
   "execution_count": 5,
   "id": "85cef96c",
   "metadata": {},
   "outputs": [
    {
     "name": "stdout",
     "output_type": "stream",
     "text": [
      "1\n",
      "3\n",
      "5\n",
      "7\n",
      "9\n"
     ]
    }
   ],
   "source": [
    "for i in range(1,11,2):\n",
    "    print(i)"
   ]
  },
  {
   "cell_type": "code",
   "execution_count": 7,
   "id": "0307dc3d",
   "metadata": {},
   "outputs": [
    {
     "name": "stdout",
     "output_type": "stream",
     "text": [
      "Ali\n",
      "I am 4\n"
     ]
    }
   ],
   "source": [
    "dict = {}\n",
    "dict['name'] = \"Ali\"\n",
    "print(dict['name'])\n",
    "dict[4] = \"I am 4\"\n",
    "print(dict[4])"
   ]
  },
  {
   "cell_type": "code",
   "execution_count": 14,
   "id": "25f1fe7b",
   "metadata": {},
   "outputs": [
    {
     "name": "stdout",
     "output_type": "stream",
     "text": [
      "20\n"
     ]
    }
   ],
   "source": [
    "dt = {\n",
    "    'name':\"Bilal\",\n",
    "    'age':21,\n",
    "    4:20\n",
    "}\n",
    "print(dt[4])"
   ]
  },
  {
   "cell_type": "code",
   "execution_count": 15,
   "id": "e1731366",
   "metadata": {},
   "outputs": [
    {
     "name": "stdout",
     "output_type": "stream",
     "text": [
      "Bilal\n",
      "21\n",
      "20\n"
     ]
    }
   ],
   "source": [
    "for i in dt.keys():\n",
    "    print(dt[i])"
   ]
  },
  {
   "cell_type": "code",
   "execution_count": 16,
   "id": "cb1ea29c",
   "metadata": {},
   "outputs": [
    {
     "name": "stdout",
     "output_type": "stream",
     "text": [
      "dict_values(['Bilal', 21, 20])\n"
     ]
    }
   ],
   "source": [
    "print(dt.values())"
   ]
  },
  {
   "cell_type": "code",
   "execution_count": 17,
   "id": "21f5e4c2",
   "metadata": {},
   "outputs": [
    {
     "name": "stdout",
     "output_type": "stream",
     "text": [
      "dict_keys(['name', 'age', 4])\n"
     ]
    }
   ],
   "source": [
    "print(dt.keys())"
   ]
  },
  {
   "cell_type": "code",
   "execution_count": 89,
   "id": "adfe0842",
   "metadata": {},
   "outputs": [
    {
     "name": "stdout",
     "output_type": "stream",
     "text": [
      "Average Ratings\n",
      "Pizzeria = 4.25\n",
      "Fanboy = 3.00\n",
      "Hot chilli = 4.00\n",
      "Highest average rating: 4.25 at Pizzeria\n",
      "Lowest average rating: 3.0 at Fanboy\n"
     ]
    }
   ],
   "source": [
    "lst_dct = [\n",
    "    {\n",
    "        'restaurant_id':'2',\n",
    "        'restaurant_name': 'Pizzeria',\n",
    "        'review_rating': 5,\n",
    "        'review_text':'The pizza here is amazing!',\n",
    "    },\n",
    "     {\n",
    "        'restaurant_id':'2',\n",
    "        'restaurant_name': 'Pizzeria',\n",
    "        'review_rating': 3.5,\n",
    "        'review_text':'The food here is amazing!',\n",
    "    },\n",
    "     {\n",
    "        'restaurant_id':'8',\n",
    "         'restaurant_name': 'Fanboy',\n",
    "        'review_rating': 5,\n",
    "        'review_text':'The eat here is amazing!',\n",
    "    },\n",
    "    {\n",
    "        'restaurant_id':'8',\n",
    "         'restaurant_name': 'Fanboy',\n",
    "        'review_rating': 1,\n",
    "        'review_text':'The pop here is amazing!',\n",
    "    },\n",
    "     {\n",
    "        'restaurant_id':'5',\n",
    "         'restaurant_name': 'Hot chilli',\n",
    "        'review_rating': 3,\n",
    "        'review_text':'The kind here is amazing!',\n",
    "    },\n",
    "     {\n",
    "        'restaurant_id':'5',\n",
    "         'restaurant_name': 'Hot chilli',\n",
    "        'review_rating': 4.5,\n",
    "        'review_text':'The env here is amazing!',\n",
    "    },\n",
    "     {\n",
    "        'restaurant_id':'5',\n",
    "         'restaurant_name': 'Hot chilli',\n",
    "        'review_rating': 4.5,\n",
    "        'review_text':'The staff here is amazing!',\n",
    "    },\n",
    "]\n",
    "\n",
    "def analyze(dct):\n",
    "    result = {}\n",
    "    count = {}\n",
    "    for dct in lst_dct:\n",
    "        restaurant_id = dct['restaurant_name']\n",
    "        review_rating = dct['review_rating']\n",
    "        if restaurant_id not in result:\n",
    "            result[restaurant_id] = review_rating\n",
    "            count[restaurant_id] = 1\n",
    "        else:\n",
    "            result[restaurant_id] += review_rating\n",
    "            count[restaurant_id] += 1\n",
    "    for restaurant_id in result:\n",
    "        result[restaurant_id] /= count[restaurant_id]\n",
    "    return result\n",
    "\n",
    "def analyze_reviews(lst_dct):\n",
    "    new_dct = analyze(lst_dct)\n",
    "    print(\"Average Ratings\")\n",
    "    for restaurant_id, avg_rating in new_dct.items():\n",
    "        print(f\"{restaurant_id} = {avg_rating:.2f}\")\n",
    "    \n",
    "    highest_avg = max(new_dct.values())\n",
    "    lowest_avg = min(new_dct.values())\n",
    "    highest_restaurant = None\n",
    "    lowest_restaurant = None\n",
    "    for restaurant_name, avg_rating in new_dct.items():\n",
    "        if avg_rating == highest_avg:\n",
    "            highest_restaurant = restaurant_name\n",
    "        if avg_rating == lowest_avg:\n",
    "            lowest_restaurant = restaurant_name\n",
    "            \n",
    "    print(\"Highest average rating:\", highest_avg, \"at\", highest_restaurant)\n",
    "    print(\"Lowest average rating:\", lowest_avg, \"at\", lowest_restaurant)\n",
    "    \n",
    "analyze_reviews(lst_dct)"
   ]
  },
  {
   "cell_type": "code",
   "execution_count": null,
   "id": "989f9521",
   "metadata": {},
   "outputs": [],
   "source": []
  }
 ],
 "metadata": {
  "kernelspec": {
   "display_name": "Python 3 (ipykernel)",
   "language": "python",
   "name": "python3"
  },
  "language_info": {
   "codemirror_mode": {
    "name": "ipython",
    "version": 3
   },
   "file_extension": ".py",
   "mimetype": "text/x-python",
   "name": "python",
   "nbconvert_exporter": "python",
   "pygments_lexer": "ipython3",
   "version": "3.10.10"
  }
 },
 "nbformat": 4,
 "nbformat_minor": 5
}
