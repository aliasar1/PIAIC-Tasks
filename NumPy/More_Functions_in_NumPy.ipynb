{
  "nbformat": 4,
  "nbformat_minor": 0,
  "metadata": {
    "colab": {
      "provenance": []
    },
    "kernelspec": {
      "name": "python3",
      "display_name": "Python 3"
    },
    "language_info": {
      "name": "python"
    }
  },
  "cells": [
    {
      "cell_type": "markdown",
      "source": [
        "**More about NumPy Functions**"
      ],
      "metadata": {
        "id": "tRaADeLonrF0"
      }
    },
    {
      "cell_type": "code",
      "source": [
        "import numpy as np"
      ],
      "metadata": {
        "id": "bDKn6UvQnyxr"
      },
      "execution_count": 1,
      "outputs": []
    },
    {
      "cell_type": "code",
      "source": [
        "arr1 = np.array([1,2,34,5,23,52])\n",
        "arr2 = np.array([44,12,21,3,12,22])"
      ],
      "metadata": {
        "id": "9eUB2lofoCiU"
      },
      "execution_count": 2,
      "outputs": []
    },
    {
      "cell_type": "code",
      "source": [
        "arr1"
      ],
      "metadata": {
        "colab": {
          "base_uri": "https://localhost:8080/"
        },
        "id": "gSGsmNLEoMfr",
        "outputId": "f43382f6-67e8-418e-8d42-f9e1fd90b793"
      },
      "execution_count": 3,
      "outputs": [
        {
          "output_type": "execute_result",
          "data": {
            "text/plain": [
              "array([ 1,  2, 34,  5, 23, 52])"
            ]
          },
          "metadata": {},
          "execution_count": 3
        }
      ]
    },
    {
      "cell_type": "code",
      "source": [
        "arr2"
      ],
      "metadata": {
        "colab": {
          "base_uri": "https://localhost:8080/"
        },
        "id": "uYLvCmLHoNaS",
        "outputId": "f7478278-d2eb-4330-c2f8-37f8a7e7e3f4"
      },
      "execution_count": 4,
      "outputs": [
        {
          "output_type": "execute_result",
          "data": {
            "text/plain": [
              "array([44, 12, 21,  3, 12, 22])"
            ]
          },
          "metadata": {},
          "execution_count": 4
        }
      ]
    },
    {
      "cell_type": "code",
      "source": [
        "res = []\n",
        "for i,_ in enumerate(arr1):\n",
        "  res.append(arr1[i]+arr2[i])\n",
        "res"
      ],
      "metadata": {
        "colab": {
          "base_uri": "https://localhost:8080/"
        },
        "id": "u4Buw54ioQIa",
        "outputId": "e401e84d-cf74-48ab-9663-37499a327dad"
      },
      "execution_count": 5,
      "outputs": [
        {
          "output_type": "execute_result",
          "data": {
            "text/plain": [
              "[45, 14, 55, 8, 35, 74]"
            ]
          },
          "metadata": {},
          "execution_count": 5
        }
      ]
    },
    {
      "cell_type": "markdown",
      "source": [
        "**where in NumPy**"
      ],
      "metadata": {
        "id": "MAG3g0FmorHK"
      }
    },
    {
      "cell_type": "code",
      "source": [
        "marks = np.array([50,76,34,89,98,43])\n",
        "marks"
      ],
      "metadata": {
        "colab": {
          "base_uri": "https://localhost:8080/"
        },
        "id": "64wIOzxdomzb",
        "outputId": "12136db4-bed8-46f8-93ac-f84234ab2f20"
      },
      "execution_count": 6,
      "outputs": [
        {
          "output_type": "execute_result",
          "data": {
            "text/plain": [
              "array([50, 76, 34, 89, 98, 43])"
            ]
          },
          "metadata": {},
          "execution_count": 6
        }
      ]
    },
    {
      "cell_type": "code",
      "source": [
        "np.where(marks >= 50, 'Pass', 'Fail')"
      ],
      "metadata": {
        "colab": {
          "base_uri": "https://localhost:8080/"
        },
        "id": "S4K2ItHZo52z",
        "outputId": "934d94bb-1016-47e0-d5ab-cf2138ccc165"
      },
      "execution_count": 7,
      "outputs": [
        {
          "output_type": "execute_result",
          "data": {
            "text/plain": [
              "array(['Pass', 'Pass', 'Fail', 'Pass', 'Pass', 'Fail'], dtype='<U4')"
            ]
          },
          "metadata": {},
          "execution_count": 7
        }
      ]
    },
    {
      "cell_type": "code",
      "source": [
        "salary = np.array([120000, 76000, 90000, 110000, 670000])\n",
        "salary"
      ],
      "metadata": {
        "colab": {
          "base_uri": "https://localhost:8080/"
        },
        "id": "yV7olBYRpHqE",
        "outputId": "fbd10061-66d4-4c4f-a3b4-bf8914fb23e1"
      },
      "execution_count": 8,
      "outputs": [
        {
          "output_type": "execute_result",
          "data": {
            "text/plain": [
              "array([120000,  76000,  90000, 110000, 670000])"
            ]
          },
          "metadata": {},
          "execution_count": 8
        }
      ]
    },
    {
      "cell_type": "code",
      "source": [
        "x = np.where(salary < 100000, salary * 1.5, salary * 1.2)\n",
        "x"
      ],
      "metadata": {
        "colab": {
          "base_uri": "https://localhost:8080/"
        },
        "id": "SiNsb-1upZZ7",
        "outputId": "9bd56bf1-9f73-4fd9-baad-0804f09950d5"
      },
      "execution_count": 9,
      "outputs": [
        {
          "output_type": "execute_result",
          "data": {
            "text/plain": [
              "array([144000., 114000., 135000., 132000., 804000.])"
            ]
          },
          "metadata": {},
          "execution_count": 9
        }
      ]
    },
    {
      "cell_type": "code",
      "source": [
        "x.dtype"
      ],
      "metadata": {
        "colab": {
          "base_uri": "https://localhost:8080/"
        },
        "id": "mCJnPwXGpyPq",
        "outputId": "490af576-d9fb-4901-cfb6-311fe561f440"
      },
      "execution_count": 11,
      "outputs": [
        {
          "output_type": "execute_result",
          "data": {
            "text/plain": [
              "dtype('float64')"
            ]
          },
          "metadata": {},
          "execution_count": 11
        }
      ]
    },
    {
      "cell_type": "code",
      "source": [
        "arr = np.arange(1,101).reshape((10,10))\n",
        "arr"
      ],
      "metadata": {
        "colab": {
          "base_uri": "https://localhost:8080/"
        },
        "id": "JSFszoNIp3DC",
        "outputId": "060600cb-8b2a-4a9b-a309-e5e698ad1c41"
      },
      "execution_count": 15,
      "outputs": [
        {
          "output_type": "execute_result",
          "data": {
            "text/plain": [
              "array([[  1,   2,   3,   4,   5,   6,   7,   8,   9,  10],\n",
              "       [ 11,  12,  13,  14,  15,  16,  17,  18,  19,  20],\n",
              "       [ 21,  22,  23,  24,  25,  26,  27,  28,  29,  30],\n",
              "       [ 31,  32,  33,  34,  35,  36,  37,  38,  39,  40],\n",
              "       [ 41,  42,  43,  44,  45,  46,  47,  48,  49,  50],\n",
              "       [ 51,  52,  53,  54,  55,  56,  57,  58,  59,  60],\n",
              "       [ 61,  62,  63,  64,  65,  66,  67,  68,  69,  70],\n",
              "       [ 71,  72,  73,  74,  75,  76,  77,  78,  79,  80],\n",
              "       [ 81,  82,  83,  84,  85,  86,  87,  88,  89,  90],\n",
              "       [ 91,  92,  93,  94,  95,  96,  97,  98,  99, 100]])"
            ]
          },
          "metadata": {},
          "execution_count": 15
        }
      ]
    },
    {
      "cell_type": "markdown",
      "source": [
        "Tanspose"
      ],
      "metadata": {
        "id": "AbbyUALEqPMZ"
      }
    },
    {
      "cell_type": "code",
      "source": [
        "arr.T"
      ],
      "metadata": {
        "colab": {
          "base_uri": "https://localhost:8080/"
        },
        "id": "ZhSxnqjGqQoi",
        "outputId": "e570b16e-5976-4b85-9ec9-b44292953bf9"
      },
      "execution_count": 16,
      "outputs": [
        {
          "output_type": "execute_result",
          "data": {
            "text/plain": [
              "array([[  1,  11,  21,  31,  41,  51,  61,  71,  81,  91],\n",
              "       [  2,  12,  22,  32,  42,  52,  62,  72,  82,  92],\n",
              "       [  3,  13,  23,  33,  43,  53,  63,  73,  83,  93],\n",
              "       [  4,  14,  24,  34,  44,  54,  64,  74,  84,  94],\n",
              "       [  5,  15,  25,  35,  45,  55,  65,  75,  85,  95],\n",
              "       [  6,  16,  26,  36,  46,  56,  66,  76,  86,  96],\n",
              "       [  7,  17,  27,  37,  47,  57,  67,  77,  87,  97],\n",
              "       [  8,  18,  28,  38,  48,  58,  68,  78,  88,  98],\n",
              "       [  9,  19,  29,  39,  49,  59,  69,  79,  89,  99],\n",
              "       [ 10,  20,  30,  40,  50,  60,  70,  80,  90, 100]])"
            ]
          },
          "metadata": {},
          "execution_count": 16
        }
      ]
    },
    {
      "cell_type": "code",
      "source": [
        "arr.transpose()"
      ],
      "metadata": {
        "colab": {
          "base_uri": "https://localhost:8080/"
        },
        "id": "NhHGB91XqTbk",
        "outputId": "089e89d7-c34d-4775-8382-a6c0af08d3be"
      },
      "execution_count": 17,
      "outputs": [
        {
          "output_type": "execute_result",
          "data": {
            "text/plain": [
              "array([[  1,  11,  21,  31,  41,  51,  61,  71,  81,  91],\n",
              "       [  2,  12,  22,  32,  42,  52,  62,  72,  82,  92],\n",
              "       [  3,  13,  23,  33,  43,  53,  63,  73,  83,  93],\n",
              "       [  4,  14,  24,  34,  44,  54,  64,  74,  84,  94],\n",
              "       [  5,  15,  25,  35,  45,  55,  65,  75,  85,  95],\n",
              "       [  6,  16,  26,  36,  46,  56,  66,  76,  86,  96],\n",
              "       [  7,  17,  27,  37,  47,  57,  67,  77,  87,  97],\n",
              "       [  8,  18,  28,  38,  48,  58,  68,  78,  88,  98],\n",
              "       [  9,  19,  29,  39,  49,  59,  69,  79,  89,  99],\n",
              "       [ 10,  20,  30,  40,  50,  60,  70,  80,  90, 100]])"
            ]
          },
          "metadata": {},
          "execution_count": 17
        }
      ]
    },
    {
      "cell_type": "markdown",
      "source": [
        "Mean"
      ],
      "metadata": {
        "id": "-xKv8AylqaNB"
      }
    },
    {
      "cell_type": "code",
      "source": [
        "y = np.array([1,3,5,2,6])\n",
        "y.mean()"
      ],
      "metadata": {
        "colab": {
          "base_uri": "https://localhost:8080/"
        },
        "id": "8dsZ8ClDqbFJ",
        "outputId": "4ff1db67-9171-4301-9d1f-e91826e3cd4e"
      },
      "execution_count": 18,
      "outputs": [
        {
          "output_type": "execute_result",
          "data": {
            "text/plain": [
              "3.4"
            ]
          },
          "metadata": {},
          "execution_count": 18
        }
      ]
    },
    {
      "cell_type": "markdown",
      "source": [
        "cumsum"
      ],
      "metadata": {
        "id": "N7aUkUD7qoVq"
      }
    },
    {
      "cell_type": "code",
      "source": [
        "y.cumsum()"
      ],
      "metadata": {
        "colab": {
          "base_uri": "https://localhost:8080/"
        },
        "id": "0uwVWbpDqp3p",
        "outputId": "1a241995-dbc9-4a5f-d035-ba9bef75ffba"
      },
      "execution_count": 19,
      "outputs": [
        {
          "output_type": "execute_result",
          "data": {
            "text/plain": [
              "array([ 1,  4,  9, 11, 17])"
            ]
          },
          "metadata": {},
          "execution_count": 19
        }
      ]
    },
    {
      "cell_type": "markdown",
      "source": [
        "cumprod"
      ],
      "metadata": {
        "id": "Mlw7ajLYqwgq"
      }
    },
    {
      "cell_type": "code",
      "source": [
        "y.cumprod()"
      ],
      "metadata": {
        "colab": {
          "base_uri": "https://localhost:8080/"
        },
        "id": "NCiV02qRqxup",
        "outputId": "f7bc8a87-0930-4aff-9744-7f677a8facdb"
      },
      "execution_count": 20,
      "outputs": [
        {
          "output_type": "execute_result",
          "data": {
            "text/plain": [
              "array([  1,   3,  15,  30, 180])"
            ]
          },
          "metadata": {},
          "execution_count": 20
        }
      ]
    },
    {
      "cell_type": "markdown",
      "source": [
        "Methods for boolean array"
      ],
      "metadata": {
        "id": "Gt6oKRYrq2HK"
      }
    },
    {
      "cell_type": "code",
      "source": [
        "genders = np.array(['Male', 'Female', 'Male', 'Male', 'Female'])\n",
        "genders"
      ],
      "metadata": {
        "colab": {
          "base_uri": "https://localhost:8080/"
        },
        "id": "dkeayztUq45b",
        "outputId": "0ac2c2cf-69e1-4fc1-cc52-6eb7a0cc8de0"
      },
      "execution_count": 21,
      "outputs": [
        {
          "output_type": "execute_result",
          "data": {
            "text/plain": [
              "array(['Male', 'Female', 'Male', 'Male', 'Female'], dtype='<U6')"
            ]
          },
          "metadata": {},
          "execution_count": 21
        }
      ]
    },
    {
      "cell_type": "code",
      "source": [
        "arr = genders == 'Male'\n",
        "arr"
      ],
      "metadata": {
        "colab": {
          "base_uri": "https://localhost:8080/"
        },
        "id": "zJAPjsSPredC",
        "outputId": "c8941d19-b7f9-451e-964c-9d11761213b7"
      },
      "execution_count": 24,
      "outputs": [
        {
          "output_type": "execute_result",
          "data": {
            "text/plain": [
              "array([ True, False,  True,  True, False])"
            ]
          },
          "metadata": {},
          "execution_count": 24
        }
      ]
    },
    {
      "cell_type": "code",
      "source": [
        "arr.sum()"
      ],
      "metadata": {
        "colab": {
          "base_uri": "https://localhost:8080/"
        },
        "id": "6A0S7MRrroUq",
        "outputId": "ad651190-aca1-4ecc-ac06-dd324531111c"
      },
      "execution_count": 25,
      "outputs": [
        {
          "output_type": "execute_result",
          "data": {
            "text/plain": [
              "3"
            ]
          },
          "metadata": {},
          "execution_count": 25
        }
      ]
    },
    {
      "cell_type": "code",
      "source": [
        "arr = genders == 'Female'\n",
        "arr.sum()"
      ],
      "metadata": {
        "colab": {
          "base_uri": "https://localhost:8080/"
        },
        "id": "zQ7lbNj2rsoT",
        "outputId": "cb714e96-0116-4df9-c3c9-fcf668923ed2"
      },
      "execution_count": 26,
      "outputs": [
        {
          "output_type": "execute_result",
          "data": {
            "text/plain": [
              "2"
            ]
          },
          "metadata": {},
          "execution_count": 26
        }
      ]
    },
    {
      "cell_type": "code",
      "source": [
        "arr.any()"
      ],
      "metadata": {
        "colab": {
          "base_uri": "https://localhost:8080/"
        },
        "id": "Bixgx_C2rzPQ",
        "outputId": "c946b16f-a357-49b7-db40-c14a824f02bd"
      },
      "execution_count": 27,
      "outputs": [
        {
          "output_type": "execute_result",
          "data": {
            "text/plain": [
              "True"
            ]
          },
          "metadata": {},
          "execution_count": 27
        }
      ]
    },
    {
      "cell_type": "code",
      "source": [
        "arr.all()"
      ],
      "metadata": {
        "colab": {
          "base_uri": "https://localhost:8080/"
        },
        "id": "kUDj-KbLr034",
        "outputId": "c3367035-f78e-4298-8a64-7c6351823a25"
      },
      "execution_count": 28,
      "outputs": [
        {
          "output_type": "execute_result",
          "data": {
            "text/plain": [
              "False"
            ]
          },
          "metadata": {},
          "execution_count": 28
        }
      ]
    },
    {
      "cell_type": "code",
      "source": [
        "arr = np.array([2,4,6,7])\n",
        "arr"
      ],
      "metadata": {
        "colab": {
          "base_uri": "https://localhost:8080/"
        },
        "id": "lln4l4DTr6f0",
        "outputId": "55c11eac-8a1d-4f35-b768-bd967920075a"
      },
      "execution_count": 32,
      "outputs": [
        {
          "output_type": "execute_result",
          "data": {
            "text/plain": [
              "array([2, 4, 6, 7])"
            ]
          },
          "metadata": {},
          "execution_count": 32
        }
      ]
    },
    {
      "cell_type": "code",
      "source": [
        "x = arr % 2 == 0\n",
        "x"
      ],
      "metadata": {
        "colab": {
          "base_uri": "https://localhost:8080/"
        },
        "id": "MAL8-wYMsAxr",
        "outputId": "f980c1a0-2b49-4d87-b82e-7eb57f365eb9"
      },
      "execution_count": 33,
      "outputs": [
        {
          "output_type": "execute_result",
          "data": {
            "text/plain": [
              "array([ True,  True,  True, False])"
            ]
          },
          "metadata": {},
          "execution_count": 33
        }
      ]
    },
    {
      "cell_type": "markdown",
      "source": [
        "Sort"
      ],
      "metadata": {
        "id": "Zv_P79acsNEt"
      }
    },
    {
      "cell_type": "code",
      "source": [
        "arr = np.array([2, 23, 4, 6, 11, 7])\n",
        "arr"
      ],
      "metadata": {
        "colab": {
          "base_uri": "https://localhost:8080/"
        },
        "id": "7r3p72njsHTJ",
        "outputId": "fd7f4366-868e-4bc7-c4c4-97047aa17edc"
      },
      "execution_count": 34,
      "outputs": [
        {
          "output_type": "execute_result",
          "data": {
            "text/plain": [
              "array([ 2, 23,  4,  6, 11,  7])"
            ]
          },
          "metadata": {},
          "execution_count": 34
        }
      ]
    },
    {
      "cell_type": "code",
      "source": [
        "s = arr.sort()\n",
        "s"
      ],
      "metadata": {
        "id": "4-UQN9AasW2Z"
      },
      "execution_count": 38,
      "outputs": []
    },
    {
      "cell_type": "code",
      "source": [
        "# sort in reverse\n",
        "s = arr[::-1]\n",
        "s"
      ],
      "metadata": {
        "colab": {
          "base_uri": "https://localhost:8080/"
        },
        "id": "zjXRPxafsd3w",
        "outputId": "8d974f19-a5c9-4915-beb4-5907550c05ee"
      },
      "execution_count": 40,
      "outputs": [
        {
          "output_type": "execute_result",
          "data": {
            "text/plain": [
              "array([23, 11,  7,  6,  4,  2])"
            ]
          },
          "metadata": {},
          "execution_count": 40
        }
      ]
    },
    {
      "cell_type": "code",
      "source": [
        "arr = np.array([43, 11, 23, 33, 11, 43, 4])\n",
        "arr"
      ],
      "metadata": {
        "colab": {
          "base_uri": "https://localhost:8080/"
        },
        "id": "jPdZig1YsupR",
        "outputId": "740cf17f-ad06-4e05-def7-50889a91c3bd"
      },
      "execution_count": 41,
      "outputs": [
        {
          "output_type": "execute_result",
          "data": {
            "text/plain": [
              "array([43, 11, 23, 33, 11, 43,  4])"
            ]
          },
          "metadata": {},
          "execution_count": 41
        }
      ]
    },
    {
      "cell_type": "code",
      "source": [
        "u = np.unique(arr)"
      ],
      "metadata": {
        "id": "pm7Hvi72s1aN"
      },
      "execution_count": 44,
      "outputs": []
    },
    {
      "cell_type": "markdown",
      "source": [
        "**File input/output**"
      ],
      "metadata": {
        "id": "8_QLS7XwtAqg"
      }
    },
    {
      "cell_type": "code",
      "source": [
        "np.save('data', u) # save to u to file"
      ],
      "metadata": {
        "id": "t0k_tnJFtFlI"
      },
      "execution_count": 46,
      "outputs": []
    },
    {
      "cell_type": "code",
      "source": [
        "# load data\n",
        "content = np.load('data.npy')\n",
        "content"
      ],
      "metadata": {
        "colab": {
          "base_uri": "https://localhost:8080/"
        },
        "id": "BKRji5W9uIsE",
        "outputId": "0b04886d-9721-4930-8425-b661880a763b"
      },
      "execution_count": 47,
      "outputs": [
        {
          "output_type": "execute_result",
          "data": {
            "text/plain": [
              "array([ 4, 11, 23, 33, 43])"
            ]
          },
          "metadata": {},
          "execution_count": 47
        }
      ]
    },
    {
      "cell_type": "code",
      "source": [
        "students = np.array(['Ali', 'Ahmed', 'Sarim'])\n",
        "marks = np.array([99, 85, 70])"
      ],
      "metadata": {
        "id": "sKkfb9UQuTlQ"
      },
      "execution_count": 48,
      "outputs": []
    },
    {
      "cell_type": "code",
      "source": [
        "students"
      ],
      "metadata": {
        "colab": {
          "base_uri": "https://localhost:8080/"
        },
        "id": "179Wj1RPujpA",
        "outputId": "051a2533-bbf0-4440-c450-a06d6d39cf4f"
      },
      "execution_count": 49,
      "outputs": [
        {
          "output_type": "execute_result",
          "data": {
            "text/plain": [
              "array(['Ali', 'Ahmed', 'Sarim'], dtype='<U5')"
            ]
          },
          "metadata": {},
          "execution_count": 49
        }
      ]
    },
    {
      "cell_type": "code",
      "source": [
        "marks"
      ],
      "metadata": {
        "colab": {
          "base_uri": "https://localhost:8080/"
        },
        "id": "EC8i80QyulLj",
        "outputId": "d566a10e-13a3-4421-8498-5f93bc5d0462"
      },
      "execution_count": 50,
      "outputs": [
        {
          "output_type": "execute_result",
          "data": {
            "text/plain": [
              "array([99, 85, 70])"
            ]
          },
          "metadata": {},
          "execution_count": 50
        }
      ]
    },
    {
      "cell_type": "code",
      "source": [
        "# saving multiple arrays in file\n",
        "np.savez('marksheet', st = students, m = marks)"
      ],
      "metadata": {
        "id": "0lWQaGhEulF2"
      },
      "execution_count": 51,
      "outputs": []
    },
    {
      "cell_type": "code",
      "source": [
        "data = np.load('marksheet.npz')\n",
        "data['st']"
      ],
      "metadata": {
        "colab": {
          "base_uri": "https://localhost:8080/"
        },
        "id": "DKaKRKwCu3DN",
        "outputId": "0e5f1c92-840a-47df-df8e-7d7529c79b09"
      },
      "execution_count": 54,
      "outputs": [
        {
          "output_type": "execute_result",
          "data": {
            "text/plain": [
              "array(['Ali', 'Ahmed', 'Sarim'], dtype='<U5')"
            ]
          },
          "metadata": {},
          "execution_count": 54
        }
      ]
    },
    {
      "cell_type": "code",
      "source": [
        "data['m']"
      ],
      "metadata": {
        "colab": {
          "base_uri": "https://localhost:8080/"
        },
        "id": "V0TvZzZFvJhn",
        "outputId": "93470fb2-8725-4269-9bf1-2a3d6e150ee5"
      },
      "execution_count": 55,
      "outputs": [
        {
          "output_type": "execute_result",
          "data": {
            "text/plain": [
              "array([99, 85, 70])"
            ]
          },
          "metadata": {},
          "execution_count": 55
        }
      ]
    }
  ]
}